{
  "nbformat": 4,
  "nbformat_minor": 0,
  "metadata": {
    "colab": {
      "provenance": [],
      "authorship_tag": "ABX9TyNSlM+y5CjcDzC7/y731ZW+",
      "include_colab_link": true
    },
    "kernelspec": {
      "name": "python3",
      "display_name": "Python 3"
    },
    "language_info": {
      "name": "python"
    }
  },
  "cells": [
    {
      "cell_type": "markdown",
      "metadata": {
        "id": "view-in-github",
        "colab_type": "text"
      },
      "source": [
        "<a href=\"https://colab.research.google.com/github/YejooPark/Python/blob/main/Week2.ipynb\" target=\"_parent\"><img src=\"https://colab.research.google.com/assets/colab-badge.svg\" alt=\"Open In Colab\"/></a>"
      ]
    },
    {
      "cell_type": "markdown",
      "source": [
        "# 이름과 태어난 생년월일을 입력받아 출력하는 프로그램이다.\n"
      ],
      "metadata": {
        "id": "EvFg-DmkdHpI"
      }
    },
    {
      "cell_type": "code",
      "source": [
        "# 이름과 태어난 생년월일을 입력받아 출력하는 프로그램이다.\n",
        "\n",
        "name=input(\"이름을 입력하세요:\")\n",
        "year, month, day=input (\"당신이 태어난 해의 년도, 월, 일을 차례로 입력하세요:\").split() # '2000,3,5'\n",
        "print(f\"{name}씨! 당신의 생년월일은 {year}년 {month}월 {day}일입니다.\")"
      ],
      "metadata": {
        "colab": {
          "base_uri": "https://localhost:8080/"
        },
        "id": "PQlqYAjdc92K",
        "outputId": "a7f65bfc-117c-4655-fe17-50e1fbfca915"
      },
      "execution_count": 8,
      "outputs": [
        {
          "output_type": "stream",
          "name": "stdout",
          "text": [
            "이름을 입력하세요:홍길동\n",
            "당신이 태어난 해의 년도, 월, 일을 차례로 입력하세요:2000 03 05\n",
            "홍길동씨! 당신의 생년월일은 2000년 03월 05일입니다.\n"
          ]
        }
      ]
    },
    {
      "cell_type": "code",
      "execution_count": 9,
      "metadata": {
        "colab": {
          "base_uri": "https://localhost:8080/"
        },
        "id": "zHu_-ap4ZhNU",
        "outputId": "a41188df-455d-4d5e-924b-550fa564b08d"
      },
      "outputs": [
        {
          "output_type": "stream",
          "name": "stdout",
          "text": [
            "이름을 입력하세요: 홍길동\n",
            "나이를 입력하세요: 20\n",
            "당신의 이름은 홍길동 이고 나이는 20 세 입니다.\n"
          ]
        }
      ],
      "source": [
        "name=input(\"이름을 입력하세요: \")\n",
        "age=input(\"나이를 입력하세요: \")\n",
        "print(\"당신의 이름은\", name,\"이고\", \"나이는\", age,\"세 입니다.\")"
      ]
    },
    {
      "cell_type": "code",
      "source": [
        "num1=int(input(\"숫자 정수1를 입력하세요:\"))\n",
        "num2=int(input(\"숫자 정수2를 입력하세요:\"))\n",
        "tot=num1+num2\n",
        "print(f\"{num1}과 {num2}의 합계는 {tot}이다.\")"
      ],
      "metadata": {
        "colab": {
          "base_uri": "https://localhost:8080/"
        },
        "id": "uJ8RYFSfapY6",
        "outputId": "3828797c-f616-43ed-849f-8c4b98cedb24"
      },
      "execution_count": 6,
      "outputs": [
        {
          "output_type": "stream",
          "name": "stdout",
          "text": [
            "숫자 정수1를 입력하세요:150\n",
            "숫자 정수2를 입력하세요:350\n",
            "150과 350의 합계는 500이다.\n"
          ]
        }
      ]
    },
    {
      "cell_type": "code",
      "source": [
        "number=123456\n",
        "print(f\"{number}\")\n",
        "print(f\"{number}\")\n",
        "print(f\"{number}\")"
      ],
      "metadata": {
        "id": "Efyyy3JGhMn2"
      },
      "execution_count": null,
      "outputs": []
    },
    {
      "cell_type": "code",
      "source": [
        "num1=int(input(\"enter a number1..\"))\n",
        "num2=int(input(\"enter a number2..\"))\n",
        "num3=int(input(\"enter a number1..\"))\n",
        "tot=num1+num2+num3\n",
        "print(f\"{num1}과 {num2}과 {num3}의 합은 {tot}이다.\")"
      ],
      "metadata": {
        "colab": {
          "base_uri": "https://localhost:8080/"
        },
        "id": "ZWTZitwPc5jw",
        "outputId": "a73eb291-6cd2-4298-df73-ae79ca972551"
      },
      "execution_count": 17,
      "outputs": [
        {
          "output_type": "stream",
          "name": "stdout",
          "text": [
            "enter a number1..10\n",
            "enter a number2..80\n",
            "enter a number1..20\n",
            "10과 80과 20의 합은 110이다.\n"
          ]
        }
      ]
    },
    {
      "cell_type": "code",
      "source": [
        "kor=100\n",
        "eng=80\n",
        "math=75\n",
        "sum=kor+eng+math\n",
        "avg=sum/3\n",
        "print(f\"총점: {sum}\")\n",
        "print(f\"평균: {avg:.2f}\")"
      ],
      "metadata": {
        "colab": {
          "base_uri": "https://localhost:8080/"
        },
        "id": "Rr0zhMhBiMjY",
        "outputId": "4ee52d7e-b7cc-4b8e-e94d-9865c568e5f6"
      },
      "execution_count": 46,
      "outputs": [
        {
          "output_type": "stream",
          "name": "stdout",
          "text": [
            "총점: 255\n",
            "평균: 85.00\n"
          ]
        }
      ]
    },
    {
      "cell_type": "code",
      "source": [
        "list_color=[\"red\", \"blue\", \"orange\", \"green\", \"purple\"]\n",
        "print(list_color.pop())\n",
        "print(list_color)\n",
        "list_color.remove(\"orange\")\n",
        "print (list_color)"
      ],
      "metadata": {
        "colab": {
          "base_uri": "https://localhost:8080/"
        },
        "id": "k8ASa6t6jlIn",
        "outputId": "13e0ec68-a801-49e6-a183-df63dffc634b"
      },
      "execution_count": 34,
      "outputs": [
        {
          "output_type": "stream",
          "name": "stdout",
          "text": [
            "purple\n",
            "['red', 'blue', 'orange', 'green']\n",
            "['red', 'blue', 'green']\n"
          ]
        }
      ]
    },
    {
      "cell_type": "code",
      "source": [
        "num=int(5 * 5 + 2 *((25-5)/ 5)) ** 2)\n",
        "print(num)"
      ],
      "metadata": {
        "colab": {
          "base_uri": "https://localhost:8080/",
          "height": 136
        },
        "id": "UiZjB3y3yXCK",
        "outputId": "f862abf5-5e43-4772-f54e-8a663047e7cc"
      },
      "execution_count": 65,
      "outputs": [
        {
          "output_type": "error",
          "ename": "SyntaxError",
          "evalue": "ignored",
          "traceback": [
            "\u001b[0;36m  File \u001b[0;32m\"<ipython-input-65-595b5afa6b94>\"\u001b[0;36m, line \u001b[0;32m1\u001b[0m\n\u001b[0;31m    num=int(5 * 5 + 2 *((25-5)/ 5)) ** 2)\u001b[0m\n\u001b[0m                                        ^\u001b[0m\n\u001b[0;31mSyntaxError\u001b[0m\u001b[0;31m:\u001b[0m invalid syntax\n"
          ]
        }
      ]
    },
    {
      "cell_type": "code",
      "source": [
        "화씨=72\n",
        "섭씨온도=(\"화씨온도-32.0\"/1.8)\n",
        "print(\"입력한 화씨온도\" {화씨} \"도는 {섭씨온도}\"로\" {서}\"이다.\")"
      ],
      "metadata": {
        "colab": {
          "base_uri": "https://localhost:8080/",
          "height": 136
        },
        "id": "vyOz4COqy0i5",
        "outputId": "041998b6-db02-42cb-aa03-1d83f81108e5"
      },
      "execution_count": 55,
      "outputs": [
        {
          "output_type": "error",
          "ename": "SyntaxError",
          "evalue": "ignored",
          "traceback": [
            "\u001b[0;36m  File \u001b[0;32m\"<ipython-input-55-e756f70bf971>\"\u001b[0;36m, line \u001b[0;32m3\u001b[0m\n\u001b[0;31m    print(\"입력한 화씨온도\" {화씨} \"도는\" {섭씨온도}\"로\" {서}\"이다.\")\u001b[0m\n\u001b[0m                     ^\u001b[0m\n\u001b[0;31mSyntaxError\u001b[0m\u001b[0;31m:\u001b[0m invalid syntax\n"
          ]
        }
      ]
    },
    {
      "cell_type": "code",
      "source": [
        "str1=\"Python\"\n",
        "str2=\"Programming\"\n",
        "str3=\"is\"\n",
        "str4=\"a amazing Language.\"\n",
        "str1+=''+str2"
      ],
      "metadata": {
        "id": "QJxluV0H4B3l"
      },
      "execution_count": 68,
      "outputs": []
    },
    {
      "cell_type": "code",
      "source": [
        "a=10\n",
        "b=5\n",
        "print(a>b)\n",
        "print(a<b)\n",
        "print(a>=b)\n",
        "print(a<=b)\n",
        "print(a==b)\n",
        "print(a!=b)"
      ],
      "metadata": {
        "colab": {
          "base_uri": "https://localhost:8080/"
        },
        "id": "lXpKTcE47Gvk",
        "outputId": "a88cf9bb-8359-463e-9e50-d58364fc3df3"
      },
      "execution_count": 70,
      "outputs": [
        {
          "output_type": "stream",
          "name": "stdout",
          "text": [
            "True\n",
            "False\n",
            "True\n",
            "False\n",
            "False\n",
            "True\n"
          ]
        }
      ]
    },
    {
      "cell_type": "code",
      "source": [
        "a=100\n",
        "b=200\n",
        "print(a<b and a==110)\n",
        "print(a==100 and a<b)"
      ],
      "metadata": {
        "colab": {
          "base_uri": "https://localhost:8080/"
        },
        "id": "bhVTW9QB76E2",
        "outputId": "195776f9-44ff-47ab-db44-5ebd192df16a"
      },
      "execution_count": 71,
      "outputs": [
        {
          "output_type": "stream",
          "name": "stdout",
          "text": [
            "False\n",
            "True\n"
          ]
        }
      ]
    },
    {
      "cell_type": "code",
      "source": [
        "a=100\n",
        "b=200\n",
        "print(a<b or a<10)\n",
        "print(a>b or b>300)"
      ],
      "metadata": {
        "colab": {
          "base_uri": "https://localhost:8080/"
        },
        "id": "7l8wPyTJ8ZfU",
        "outputId": "aa345431-9a66-4e29-a461-327728104736"
      },
      "execution_count": 72,
      "outputs": [
        {
          "output_type": "stream",
          "name": "stdout",
          "text": [
            "True\n",
            "False\n"
          ]
        }
      ]
    },
    {
      "cell_type": "code",
      "source": [
        "a=100\n",
        "print(not a)\n",
        "print(not False)"
      ],
      "metadata": {
        "colab": {
          "base_uri": "https://localhost:8080/"
        },
        "id": "P_Oue4eI9pxK",
        "outputId": "fa16734f-374d-4aee-8f20-dc1baca5addc"
      },
      "execution_count": 73,
      "outputs": [
        {
          "output_type": "stream",
          "name": "stdout",
          "text": [
            "False\n",
            "True\n"
          ]
        }
      ]
    },
    {
      "cell_type": "code",
      "source": [
        "kor=90\n",
        "eng=80\n",
        "math=100\n",
        "print(kor>=80 and eng>=80 and math>=80)"
      ],
      "metadata": {
        "colab": {
          "base_uri": "https://localhost:8080/"
        },
        "id": "kHSyeXuT9zHR",
        "outputId": "feeb8d7d-15b4-4324-a136-59e587978781"
      },
      "execution_count": 80,
      "outputs": [
        {
          "output_type": "stream",
          "name": "stdout",
          "text": [
            "True\n"
          ]
        }
      ]
    },
    {
      "cell_type": "code",
      "source": [],
      "metadata": {
        "id": "qlVbVogL-BXc"
      },
      "execution_count": null,
      "outputs": []
    }
  ]
}