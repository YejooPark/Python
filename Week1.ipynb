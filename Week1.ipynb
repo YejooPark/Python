{
  "nbformat": 4,
  "nbformat_minor": 0,
  "metadata": {
    "colab": {
      "provenance": [],
      "collapsed_sections": [],
      "authorship_tag": "ABX9TyMgHOeD31Xz4HYYR2uLIbEo",
      "include_colab_link": true
    },
    "kernelspec": {
      "name": "python3",
      "display_name": "Python 3"
    },
    "language_info": {
      "name": "python"
    }
  },
  "cells": [
    {
      "cell_type": "markdown",
      "metadata": {
        "id": "view-in-github",
        "colab_type": "text"
      },
      "source": [
        "<a href=\"https://colab.research.google.com/github/YejooPark/Python/blob/main/Week1.ipynb\" target=\"_parent\"><img src=\"https://colab.research.google.com/assets/colab-badge.svg\" alt=\"Open In Colab\"/></a>"
      ]
    },
    {
      "cell_type": "code",
      "source": [
        "print(\"Hello World!\")"
      ],
      "metadata": {
        "colab": {
          "base_uri": "https://localhost:8080/"
        },
        "id": "Je99dfWhuTrI",
        "outputId": "60e854a8-f91b-4a6f-dffd-fe99fe1a2013"
      },
      "execution_count": null,
      "outputs": [
        {
          "output_type": "stream",
          "name": "stdout",
          "text": [
            "Hello World!\n"
          ]
        }
      ]
    },
    {
      "cell_type": "code",
      "source": [
        "print('10 + 10 =', 10+10 ,sep= '$')"
      ],
      "metadata": {
        "colab": {
          "base_uri": "https://localhost:8080/"
        },
        "id": "LphvKOsaQvtw",
        "outputId": "b60688b0-198c-4585-8aaa-1ef70324bfb7"
      },
      "execution_count": null,
      "outputs": [
        {
          "output_type": "stream",
          "name": "stdout",
          "text": [
            "10 + 10 =$20\n"
          ]
        }
      ]
    },
    {
      "cell_type": "code",
      "source": [
        "print(1,2,3,4,5)"
      ],
      "metadata": {
        "colab": {
          "base_uri": "https://localhost:8080/"
        },
        "id": "iq0MkmxVtVtJ",
        "outputId": "318b98cd-52e2-4b1e-bf7a-15096aa17b58"
      },
      "execution_count": null,
      "outputs": [
        {
          "output_type": "stream",
          "name": "stdout",
          "text": [
            "1 2 3 4 5\n"
          ]
        }
      ]
    },
    {
      "cell_type": "code",
      "source": [
        "print (1,2,3,4,5 , sep='')"
      ],
      "metadata": {
        "colab": {
          "base_uri": "https://localhost:8080/"
        },
        "id": "tbvhQYd-t_S4",
        "outputId": "17a954cd-35b6-421c-bde7-d278a61aa312"
      },
      "execution_count": null,
      "outputs": [
        {
          "output_type": "stream",
          "name": "stdout",
          "text": [
            "12345\n"
          ]
        }
      ]
    },
    {
      "cell_type": "code",
      "source": [
        "print(\"Hello\")\n",
        "print('Hello')\n",
        "print(\"I'm Yejoo\")"
      ],
      "metadata": {
        "colab": {
          "base_uri": "https://localhost:8080/"
        },
        "id": "G0cDdF4DuHUP",
        "outputId": "46296e11-c287-437c-977d-e7a8ee490ae5"
      },
      "execution_count": null,
      "outputs": [
        {
          "output_type": "stream",
          "name": "stdout",
          "text": [
            "Hello\n",
            "Hello\n",
            "I'm Yejoo\n"
          ]
        }
      ]
    },
    {
      "cell_type": "code",
      "source": [
        "print(\"python\"+\"program\")\n",
        "print(\"ptrhon\" , \"program\" ,sep='')\n",
        "print(\"python\", \"program\")"
      ],
      "metadata": {
        "colab": {
          "base_uri": "https://localhost:8080/"
        },
        "id": "d77PhOcSuchg",
        "outputId": "7510bf05-23a4-4f8a-91ab-f7913d6d19ef"
      },
      "execution_count": null,
      "outputs": [
        {
          "output_type": "stream",
          "name": "stdout",
          "text": [
            "pythonprogram\n",
            "ptrhonprogram\n",
            "python program\n"
          ]
        }
      ]
    },
    {
      "cell_type": "code",
      "source": [
        "print(\"파이썬 \" * 5)"
      ],
      "metadata": {
        "colab": {
          "base_uri": "https://localhost:8080/"
        },
        "id": "YGzNgPx4v1oO",
        "outputId": "271a1e06-3ef3-419f-dd81-07aaeeb5aa99"
      },
      "execution_count": null,
      "outputs": [
        {
          "output_type": "stream",
          "name": "stdout",
          "text": [
            "파이썬 파이썬 파이썬 파이썬 파이썬 \n"
          ]
        }
      ]
    },
    {
      "cell_type": "code",
      "source": [
        "print(\"파이썬 \\n\" * 5)"
      ],
      "metadata": {
        "colab": {
          "base_uri": "https://localhost:8080/"
        },
        "id": "LaQHlNabwPTn",
        "outputId": "aa816000-f199-4215-a73f-512a070e1b12"
      },
      "execution_count": null,
      "outputs": [
        {
          "output_type": "stream",
          "name": "stdout",
          "text": [
            "파이썬 \n",
            "파이썬 \n",
            "파이썬 \n",
            "파이썬 \n",
            "파이썬 \n",
            "\n"
          ]
        }
      ]
    },
    {
      "cell_type": "code",
      "source": [
        "print(\"Python Program is Great Program!\" )"
      ],
      "metadata": {
        "colab": {
          "base_uri": "https://localhost:8080/"
        },
        "id": "eTYGDJQTwYVu",
        "outputId": "1c6170e1-61bb-4f31-c1fc-9808aa0689a5"
      },
      "execution_count": null,
      "outputs": [
        {
          "output_type": "stream",
          "name": "stdout",
          "text": [
            "Python Program is Great Program!\n"
          ]
        }
      ]
    },
    {
      "cell_type": "code",
      "source": [
        "print(\"50+50의 합= \", 50+50)\n",
        "print(\"50 + 50의 합= 100\" ,sep='')"
      ],
      "metadata": {
        "colab": {
          "base_uri": "https://localhost:8080/"
        },
        "id": "VkQMG4bvw35n",
        "outputId": "789c309a-a0a8-4fa5-deda-a4394e0cf22e"
      },
      "execution_count": null,
      "outputs": [
        {
          "output_type": "stream",
          "name": "stdout",
          "text": [
            "50+50의 합=  100\n",
            "50 + 50의 합= 100\n"
          ]
        }
      ]
    },
    {
      "cell_type": "code",
      "source": [
        "name= \"홍길동\"\n",
        "print(\"나의 이름은\", name, \"이다\")"
      ],
      "metadata": {
        "colab": {
          "base_uri": "https://localhost:8080/"
        },
        "id": "K2O-_J2sz7mW",
        "outputId": "a790dae0-bc9d-4a52-bb6c-bc48ba3ee56c"
      },
      "execution_count": null,
      "outputs": [
        {
          "output_type": "stream",
          "name": "stdout",
          "text": [
            "나의 이름은 홍길동 이다\n"
          ]
        }
      ]
    },
    {
      "cell_type": "code",
      "source": [
        "name= \"홍길동\"\n",
        "print(\"나의 이름은\", name,'이고,')\n",
        "_number= 20\n",
        "print(\"나이는\", _number, '세이다.' )"
      ],
      "metadata": {
        "colab": {
          "base_uri": "https://localhost:8080/"
        },
        "id": "7tUNbtNx1HBO",
        "outputId": "44bb71b8-9ea8-40c1-ce12-92cfb909f4fd"
      },
      "execution_count": null,
      "outputs": [
        {
          "output_type": "stream",
          "name": "stdout",
          "text": [
            "나의 이름은 홍길동 이고,\n",
            "나이는 20 세이다.\n"
          ]
        }
      ]
    },
    {
      "cell_type": "code",
      "source": [
        "name = '홍길동'\n",
        "age = 20\n",
        "print ('나의 이름은 ' ,name, '이고,\\n', '나이는 ',age, '세이다')"
      ],
      "metadata": {
        "colab": {
          "base_uri": "https://localhost:8080/"
        },
        "id": "i33LjTBs1x7T",
        "outputId": "6a4f0817-4805-4127-db9f-2cd64d77d8be"
      },
      "execution_count": null,
      "outputs": [
        {
          "output_type": "stream",
          "name": "stdout",
          "text": [
            "나의 이름은  홍길동 이고,\n",
            " 나이는  20 세이다\n"
          ]
        }
      ]
    },
    {
      "cell_type": "code",
      "source": [
        "name=\"홍길동\"\n",
        "kibon= 2000000\n",
        "bonus= 500000\n",
        "salary=kibon+bonus\n",
        "print(\"{0}씨 월급은 기본급 {1:,} 보너스 {2:,} 총급여액 {3:,} 이다.\".format(name, kibon, bonus, salary))"
      ],
      "metadata": {
        "colab": {
          "base_uri": "https://localhost:8080/"
        },
        "id": "SlwYJe1Z3q_7",
        "outputId": "686cdd0f-7dd9-4167-efd9-315a69701efa"
      },
      "execution_count": null,
      "outputs": [
        {
          "output_type": "stream",
          "name": "stdout",
          "text": [
            "홍길동씨 월급은 기본급 2,000,000 보너스 500,000 총급여액 2,500,000 이다.\n"
          ]
        }
      ]
    },
    {
      "cell_type": "code",
      "source": [
        "height = 168.9154685143521\n",
        "print(\"나의 키는\" ,height, '입니다')\n",
        "print(\"나의 키는 {0:.2f}\".format(height))"
      ],
      "metadata": {
        "colab": {
          "base_uri": "https://localhost:8080/"
        },
        "id": "DMrUVXlD4r-6",
        "outputId": "e021a7ff-8fe8-40b3-ffd2-010bf139a7ea"
      },
      "execution_count": null,
      "outputs": [
        {
          "output_type": "stream",
          "name": "stdout",
          "text": [
            "나의 키는 168.9154685143521 입니다\n",
            "나의 키는 168.92\n"
          ]
        }
      ]
    },
    {
      "cell_type": "code",
      "source": [
        "height = 168.9154685143521\n",
        "print(\"나의 키는\" ,height, '입니다')\n",
        "print(\"나의 키는 {0:.2f}\".format(height))"
      ],
      "metadata": {
        "colab": {
          "base_uri": "https://localhost:8080/"
        },
        "id": "ks4Q9C_IIB8G",
        "outputId": "876ce68b-ca8b-49d6-81df-83ffe349b19d"
      },
      "execution_count": null,
      "outputs": [
        {
          "output_type": "stream",
          "name": "stdout",
          "text": [
            "나의 키는 168.9154685143521 입니다\n",
            "나의 키는 168.92\n"
          ]
        }
      ]
    },
    {
      "cell_type": "code",
      "source": [
        "name=\"홍길동\"\n",
        "age=20\n",
        "print(f\"이름은 {name}이고, 나이는 {age} 세이다.\")"
      ],
      "metadata": {
        "colab": {
          "base_uri": "https://localhost:8080/"
        },
        "id": "g3O2qkdc5hWc",
        "outputId": "634335f5-1f4c-4492-e68e-0c9f0b08ed92"
      },
      "execution_count": null,
      "outputs": [
        {
          "output_type": "stream",
          "name": "stdout",
          "text": [
            "이름은 홍길동이고, 나이는 20 세이다.\n"
          ]
        }
      ]
    },
    {
      "cell_type": "code",
      "source": [
        "name=\"홍길동\"\n",
        "age=20\n",
        "city=\"Paju\"\n",
        "print(\"안녕하세요 \"+name+\" 입니다.\")\n",
        "print(\"\\t사는곳은 \",city,\"이며 \"+\"고향은 \", city, \"입니다.\")"
      ],
      "metadata": {
        "colab": {
          "base_uri": "https://localhost:8080/"
        },
        "id": "rxjo3g5_603x",
        "outputId": "13952a2b-9f9d-4b61-e891-d9dfd43f4264"
      },
      "execution_count": null,
      "outputs": [
        {
          "output_type": "stream",
          "name": "stdout",
          "text": [
            "안녕하세요 홍길동 입니다.\n",
            "\t사는곳은  Paju 이며 고향은  Paju 입니다.\n"
          ]
        }
      ]
    },
    {
      "cell_type": "code",
      "source": [
        "print('안녕하세요 딘입니다.')\n",
        "print('안녕하세요\\t 딘입니다.')\n",
        "print('안녕하세요\\b 딘입니다.')\n",
        "print('안녕하세요\\\\ 딘입니다.')"
      ],
      "metadata": {
        "colab": {
          "base_uri": "https://localhost:8080/"
        },
        "id": "W8cN2Ato7n86",
        "outputId": "33bf3926-137f-4aa7-e338-f6deb24177a0"
      },
      "execution_count": null,
      "outputs": [
        {
          "output_type": "stream",
          "name": "stdout",
          "text": [
            "안녕하세요 딘입니다.\n",
            "안녕하세요\t 딘입니다.\n",
            "안녕하세요\b 딘입니다.\n",
            "안녕하세요\\ 딘입니다.\n"
          ]
        }
      ]
    },
    {
      "cell_type": "code",
      "source": [
        "name= \"홍길동\"\n",
        "kibon=2000000\n",
        "bonus=500000\n",
        "salary=kibon+bonus\n",
        "print(\"{0}씨 월급은 기본급 {1:,} 보너스 {2:,}, 총급여액 {3:,} 이다.\".format(name, kibon, bonus, salary))"
      ],
      "metadata": {
        "id": "fmxSHKNI78fD",
        "colab": {
          "base_uri": "https://localhost:8080/"
        },
        "outputId": "9329b117-a152-4a75-b641-ca91e4af452f"
      },
      "execution_count": null,
      "outputs": [
        {
          "output_type": "stream",
          "name": "stdout",
          "text": [
            "홍길동씨 월급은 기본급 2,000,000 보너스 500,000, 총급여액 2,500,000 이다.\n"
          ]
        }
      ]
    },
    {
      "cell_type": "code",
      "source": [
        "num1, num2, num3=100, 200, 300\n",
        "print(\"{0:d} {1:5d} {2:05d}\".format(num1, num2, num3))"
      ],
      "metadata": {
        "colab": {
          "base_uri": "https://localhost:8080/"
        },
        "id": "kMSIySDmmLLG",
        "outputId": "6b3b8a1c-e3e4-45cf-9e99-c4b9bea0ed1c"
      },
      "execution_count": null,
      "outputs": [
        {
          "output_type": "stream",
          "name": "stdout",
          "text": [
            "100   200 00300\n"
          ]
        }
      ]
    },
    {
      "cell_type": "code",
      "source": [
        "name= \"홍길동\"\n",
        "age= 20\n",
        "city= \"Paju\"\n",
        "print(\"안녕하세요 \" +name+\" 입니다.\")\n",
        "print(\"제 나이는 \"+str(age)+\"세이며,\",end=\"\")\n",
        "print(\"\\t\\t사는 곳은 \" +city+ \"이며,\"+\"고향은 \\\"\"+city+\"\\\"입니다.\")"
      ],
      "metadata": {
        "colab": {
          "base_uri": "https://localhost:8080/"
        },
        "id": "SyoVkpZ8rWo2",
        "outputId": "644320a5-5ffe-4d17-bf13-a0daa97a7498"
      },
      "execution_count": null,
      "outputs": [
        {
          "output_type": "stream",
          "name": "stdout",
          "text": [
            "안녕하세요 홍길동 입니다.\n",
            "제 나이는 20세이며,\t\t사는 곳은 Paju이며,고향은 \"Paju\"입니다.\n"
          ]
        }
      ]
    },
    {
      "cell_type": "code",
      "source": [
        "가로의너비= 20\n",
        "세로의높이= 20\n",
        "print(\"직사각형의 넓이=\"+ str(가로의너비 * 세로의높이))"
      ],
      "metadata": {
        "colab": {
          "base_uri": "https://localhost:8080/"
        },
        "id": "mltqqNzb33-6",
        "outputId": "c264740d-e883-4c35-aa2f-41eac70ff68a"
      },
      "execution_count": null,
      "outputs": [
        {
          "output_type": "stream",
          "name": "stdout",
          "text": [
            "직사각형의 넓이=400\n"
          ]
        }
      ]
    },
    {
      "cell_type": "code",
      "source": [
        "국어=100\n",
        "영어=80\n",
        "수학=75 \n",
        "총점=국어+ 영어+ 수학\n",
        "print(\"국어 : \" + str(국어))\n",
        "print(\"영어 : \" + str(영어))\n",
        "print(\"수학 : \" + str(수학))\n",
        "print(\"총점 : \" + str (총점))\n",
        "print(\"평균 : \" + str (총점/3)+\"0\")"
      ],
      "metadata": {
        "id": "D6oBMVIV8cLH",
        "colab": {
          "base_uri": "https://localhost:8080/"
        },
        "outputId": "4f752e1b-f52f-464e-a25a-aa53721f6c48"
      },
      "execution_count": null,
      "outputs": [
        {
          "output_type": "stream",
          "name": "stdout",
          "text": [
            "국어 : 100\n",
            "영어 : 80\n",
            "수학 : 75\n",
            "총점 : 255\n",
            "평균 : 85.00\n"
          ]
        }
      ]
    },
    {
      "cell_type": "code",
      "source": [
        "국어 = 100\n",
        "영어 = 80\n",
        "수학 = 75 \n",
        "총점 = 국어+ 영어+ 수학\n",
        "평균 = 총점/3\n",
        "print(\"국어 : \" + str(국어))\n",
        "print(\"영어 : \" + str(영어))\n",
        "print(\"수학 : \" + str(수학))\n",
        "print(\"총점 : \" + str (총점))\n",
        "print(\"평균 : {0:.2f}\".format(평균))"
      ],
      "metadata": {
        "colab": {
          "base_uri": "https://localhost:8080/"
        },
        "id": "d_ty773HN6hJ",
        "outputId": "d4b73371-7611-4ba8-bdf2-ec27f3ebe879"
      },
      "execution_count": null,
      "outputs": [
        {
          "output_type": "stream",
          "name": "stdout",
          "text": [
            "국어 : 100\n",
            "영어 : 80\n",
            "수학 : 75\n",
            "총점 : 255\n",
            "평균 : 85.00\n"
          ]
        }
      ]
    },
    {
      "cell_type": "code",
      "source": [
        "국어 = 100\n",
        "영어 = 80\n",
        "수학 = 75\n",
        "총점 = 국어 + 영어 + 수학 \n",
        "평균 = 총점 /3\n",
        "print(\"국어 :\",국어 )\n",
        "print(\"영어 :\",영어 )\n",
        "print(\"수학 :\",수학 )\n",
        "print('총점 :', 총점)\n",
        "print(\"평균 : {0:.2f}\".format(평균))"
      ],
      "metadata": {
        "id": "9zAWaVztOHVn",
        "colab": {
          "base_uri": "https://localhost:8080/"
        },
        "outputId": "35886291-cf12-4813-cf77-97830df2a5bf"
      },
      "execution_count": null,
      "outputs": [
        {
          "output_type": "stream",
          "name": "stdout",
          "text": [
            "국어 : 100\n",
            "영어 : 80\n",
            "수학 : 75\n",
            "총점 : 255\n",
            "평균 : 85.00\n"
          ]
        }
      ]
    },
    {
      "cell_type": "code",
      "source": [],
      "metadata": {
        "id": "lNb0neFtSpSM"
      },
      "execution_count": null,
      "outputs": []
    }
  ]
}